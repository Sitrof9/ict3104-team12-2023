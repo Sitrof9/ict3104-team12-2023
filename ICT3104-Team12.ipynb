{
 "cells": [
  {
   "cell_type": "markdown",
   "id": "44c9d517",
   "metadata": {},
   "source": [
    "# ICT3104 Project Team 12"
   ]
  },
  {
   "cell_type": "markdown",
   "id": "8fd57044",
   "metadata": {},
   "source": [
    "## Setup\n",
    "These libraries are required to run the tool."
   ]
  },
  {
   "cell_type": "code",
   "execution_count": null,
   "id": "ec8b1b91",
   "metadata": {},
   "outputs": [],
   "source": [
    "# Import libraries\n",
    "import os\n",
    "import ipywidgets as widgets\n",
    "from IPython.display import display, clear_output, Video"
   ]
  },
  {
   "cell_type": "markdown",
   "id": "6e67c3ce",
   "metadata": {},
   "source": [
    "## Data Exploration\n",
    "This section lets you select and view the videos from the data/input_files/training_videos folder, allowing you to verify if you have chosen the correct video.\n",
    "To view the videos, select an option from the dropdown video and wait for the video to be displayed."
   ]
  },
  {
   "cell_type": "code",
   "execution_count": null,
   "id": "194a1c06",
   "metadata": {},
   "outputs": [],
   "source": [
    "# Populate dropdown with files in folder\n",
    "folder_path = \"./ict3104-team12-2023/data/input_files/training_videos/\"\n",
    "video_options = os.listdir(folder_path)\n",
    "\n",
    "dropdown = widgets.Dropdown(options=video_options)\n",
    "\n",
    "# Define a function to update and display the video based on the selected option\n",
    "def update_video(change):\n",
    "    selected_option = change['new']\n",
    "\n",
    "    # Clear the previous video output before displaying the new one   \n",
    "    clear_output(wait=True)\n",
    "    display(dropdown)\n",
    "\n",
    "    # Check if file is in valid mp4 format\n",
    "    if \".mp4\" in selected_option:\n",
    "        video_path = f\"{folder_path}{selected_option}\"\n",
    "        video_display = Video(video_path, width=400, height=400, embed=True)\n",
    "        display(video_display)\n",
    "    else:\n",
    "        print(\"Please choose a file with .mp4 format.\")\n",
    "\n",
    "# Register the function to be called when the dropdown value changes\n",
    "dropdown.observe(update_video, names='value')\n",
    "\n",
    "# Display the initial video based on the default selected option\n",
    "initial_option = dropdown.value\n",
    "update_video({'new': initial_option})"
   ]
  },
  {
   "cell_type": "markdown",
   "id": "6cd395be",
   "metadata": {},
   "source": [
    "## Inference"
   ]
  },
  {
   "cell_type": "code",
   "execution_count": null,
   "id": "0bd03a32",
   "metadata": {},
   "outputs": [],
   "source": []
  },
  {
   "cell_type": "markdown",
   "id": "5148b9ef",
   "metadata": {},
   "source": [
    "## Training"
   ]
  },
  {
   "cell_type": "code",
   "execution_count": null,
   "id": "c8dc9f91",
   "metadata": {},
   "outputs": [],
   "source": []
  },
  {
   "cell_type": "markdown",
   "id": "23f39f8c",
   "metadata": {},
   "source": [
    "## Testing"
   ]
  },
  {
   "cell_type": "markdown",
   "id": "f6688463",
   "metadata": {},
   "source": []
  }
 ],
 "metadata": {
  "colab": {
   "provenance": []
  },
  "kernelspec": {
   "display_name": "Python 3 (ipykernel)",
   "language": "python",
   "name": "python3"
  },
  "language_info": {
   "codemirror_mode": {
    "name": "ipython",
    "version": 3
   },
   "file_extension": ".py",
   "mimetype": "text/x-python",
   "name": "python",
   "nbconvert_exporter": "python",
   "pygments_lexer": "ipython3",
   "version": "3.11.0"
  }
 },
 "nbformat": 4,
 "nbformat_minor": 5
}
