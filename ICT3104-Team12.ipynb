{
  "cells": [
    {
      "cell_type": "markdown",
      "id": "44c9d517",
      "metadata": {
        "id": "44c9d517"
      },
      "source": [
        "# ICT3104 Project Team 12"
      ]
    },
    {
      "cell_type": "markdown",
      "id": "8fd57044",
      "metadata": {
        "id": "8fd57044"
      },
      "source": [
        "## Setup\n",
        "These libraries are required to run the tool."
      ]
    },
    {
      "cell_type": "code",
      "execution_count": null,
      "id": "ec8b1b91",
      "metadata": {
        "id": "ec8b1b91"
      },
      "outputs": [],
      "source": [
        "#pip installs\n",
        "!pip install ruamel.yaml\n",
        "!pip install tqdm\n",
        "!pip install imageio\n",
        "!pip install torch\n",
        "!pip install moviepy\n",
        "!pip install -U nvidia-cudnn-cu11"
      ]
    },
    {
      "cell_type": "code",
      "execution_count": null,
      "id": "8f569012",
      "metadata": {
        "id": "8f569012"
      },
      "outputs": [],
      "source": [
        "# Import libraries\n",
        "import os\n",
        "import ipywidgets as widgets\n",
        "from ipywidgets import interact, interactive, interact_manual\n",
        "from IPython.display import display, clear_output, Video\n",
        "import yaml\n",
        "import ruamel.yaml\n",
        "import subprocess\n",
        "import shutil\n",
        "import glob\n",
        "import re\n",
        "import datetime\n",
        "import csv\n",
        "\n",
        "import ipywidgets as widgets\n",
        "from IPython.display import display, Image, Video, HTML, clear_output\n",
        "from base64 import b64encode\n",
        "import os\n",
        "from os import walk\n",
        "import torch\n",
        "from moviepy.editor import *\n",
        "import moviepy.editor as mpe\n",
        "\n",
        "from moviepy.video.io.ffmpeg_tools import ffmpeg_extract_subclip\n",
        "\n",
        "from tqdm import tqdm\n",
        "import time\n",
        "\n",
        "from time import sleep"
      ]
    },
    {
      "cell_type": "markdown",
      "id": "6e67c3ce",
      "metadata": {
        "id": "6e67c3ce"
      },
      "source": [
        "## Data Exploration\n",
        "This section lets you select and view the videos from the data/input_files/training_videos folder, allowing you to verify if you have chosen the correct video.\n",
        "To view the videos, select an option from the dropdown video and wait for the video to be displayed."
      ]
    },
    {
      "cell_type": "code",
      "execution_count": null,
      "id": "194a1c06",
      "metadata": {
        "colab": {
          "referenced_widgets": [
            "43bef263609643c1835a8f4cf9ca1c4d"
          ]
        },
        "id": "194a1c06",
        "outputId": "c0105243-2c29-4712-ca1c-2e398ee0f90a"
      },
      "outputs": [
        {
          "data": {
            "application/vnd.jupyter.widget-view+json": {
              "model_id": "43bef263609643c1835a8f4cf9ca1c4d",
              "version_major": 2,
              "version_minor": 0
            },
            "text/plain": [
              "interactive(children=(Dropdown(description='file', options=('6R7QW.mp4', 'CCCUJ.mp4', 'HB9LP.mp4', 'JIR5V.mp4'…"
            ]
          },
          "metadata": {},
          "output_type": "display_data"
        }
      ],
      "source": [
        "# Define folder path of training videos\n",
        "main_file_path = f\"./ict3104-team12-2023/data/input_files/\"\n",
        "\n",
        "@interact\n",
        "def select_subfolder(video_folder=os.listdir(main_file_path)):\n",
        "    video_folder_path = f\"{main_file_path}{video_folder}/\"\n",
        "\n",
        "    @interact\n",
        "    def show_video(file=os.listdir(video_folder_path)):\n",
        "        if(\".mp4\" not in file):\n",
        "            print(\"Please choose a file with .mp4 format.\")\n",
        "            return\n",
        "        video_path = f\"{video_folder_path}{file}\"\n",
        "        video_display = Video(video_path, width=512, height=512, embed=True)\n",
        "        display(video_display)"
      ]
    },
    {
      "cell_type": "markdown",
      "id": "6cd395be",
      "metadata": {
        "id": "6cd395be"
      },
      "source": [
        "## Inference"
      ]
    },
    {
      "cell_type": "code",
      "execution_count": null,
      "id": "0bd03a32",
      "metadata": {
        "colab": {
          "base_uri": "https://localhost:8080/",
          "height": 154,
          "referenced_widgets": [
            "75449e426fdd48e9b51ed284c7a65117",
            "cf0b4b30beb340fca108318a5233eeb6",
            "f91e3dbb4339470aab7f09b5891dcf00",
            "2bc73264c1e24149807636789412cfac",
            "2975c9ecec244361a937475a1b9ea409",
            "bc0ca92985d043b8ac3805524c058a29",
            "977aac6adce243e693a2df8d3a2f4ef2",
            "e12fe6971c2940f0b0e791b47ba1e6ee",
            "df5a151304514941979e9fb54bf9b9f2",
            "04a8b2a90b0c4471975882da4c1c72b7",
            "cad39402ae39487a957cf309e4168320"
          ]
        },
        "id": "0bd03a32",
        "outputId": "4260db05-6c36-47b6-fc71-6d5bca410aea"
      },
      "outputs": [
        {
          "data": {
            "application/vnd.jupyter.widget-view+json": {
              "model_id": "75449e426fdd48e9b51ed284c7a65117",
              "version_major": 2,
              "version_minor": 0
            },
            "text/plain": [
              "Text(value='./checkpoints/stable-diffusion-v1-4', description='Pretrained Model Path:')"
            ]
          },
          "metadata": {},
          "output_type": "display_data"
        },
        {
          "data": {
            "application/vnd.jupyter.widget-view+json": {
              "model_id": "2bc73264c1e24149807636789412cfac",
              "version_major": 2,
              "version_minor": 0
            },
            "text/plain": [
              "Textarea(value='Iron man on the beach\\nStormtrooper on the sea\\nAstronaut on the beach', description='Prompts:…"
            ]
          },
          "metadata": {},
          "output_type": "display_data"
        },
        {
          "data": {
            "application/vnd.jupyter.widget-view+json": {
              "model_id": "977aac6adce243e693a2df8d3a2f4ef2",
              "version_major": 2,
              "version_minor": 0
            },
            "text/plain": [
              "Button(description='Update Config', style=ButtonStyle())"
            ]
          },
          "metadata": {},
          "output_type": "display_data"
        },
        {
          "data": {
            "application/vnd.jupyter.widget-view+json": {
              "model_id": "04a8b2a90b0c4471975882da4c1c72b7",
              "version_major": 2,
              "version_minor": 0
            },
            "text/plain": [
              "Output()"
            ]
          },
          "metadata": {},
          "output_type": "display_data"
        }
      ],
      "source": [
        "# Create a text input widget for pretrained_model_path\n",
        "pretrained_model_path_input = widgets.Text(\n",
        "    value=\"./checkpoints/stable-diffusion-v1-4\",\n",
        "    description=\"Pretrained Model Path:\",\n",
        ")\n",
        "\n",
        "# Read the existing YAML content from the file\n",
        "yaml_file_path = \"./ict3104-team12-2023/configs/pose_sample.yaml\"\n",
        "with open(yaml_file_path, 'r') as file:\n",
        "    try:\n",
        "        data = yaml.safe_load(file)\n",
        "    except yaml.YAMLError as exc:\n",
        "        print(exc)\n",
        "pretrained_model_path = data['pretrained_model_path']\n",
        "validation_data = data['validation_data']\n",
        "prompts = validation_data['prompts']\n",
        "\n",
        "# Create a text input widget for prompts\n",
        "prompts_input = widgets.Textarea(\n",
        "    value = \"\\n\".join(str(i) for i in (validation_data['prompts'])),\n",
        "    description = \"Prompts:\",\n",
        "    rows = 4\n",
        ")\n",
        "\n",
        "update_config_button = widgets.Button(description=\"Update Config\")\n",
        "yaml_file_path = \"./ict3104-team12-2023/configs/pose_sample.yaml\"\n",
        "output_widget = widgets.Output()\n",
        "\n",
        "def update_config(button_click):\n",
        "    updated_path = pretrained_model_path_input.value\n",
        "    updated_prompts = prompts_input.value.split(\"\\n\")\n",
        "\n",
        "    data['pretrained_model_path'] = updated_path\n",
        "    data['validation_data']['prompts'] = updated_prompts\n",
        "    # Set video length to 8\n",
        "    data['validation_data']['video_length'] = 8\n",
        "\n",
        "    # Write the updated content back to the file\n",
        "    with open(yaml_file_path, 'w') as yaml_file:\n",
        "        yaml.dump(data, yaml_file, sort_keys=False)\n",
        "\n",
        "    # Display the updated YAML content in the output widget\n",
        "    with output_widget:\n",
        "        clear_output()\n",
        "        print(yaml.dump(data, sort_keys=False))\n",
        "\n",
        "update_config_button.on_click(update_config)\n",
        "\n",
        "# Display input fields\n",
        "display(pretrained_model_path_input)\n",
        "display(prompts_input)\n",
        "# Preview\n",
        "display(update_config_button, output_widget)"
      ]
    },
    {
      "cell_type": "code",
      "execution_count": null,
      "id": "1aPNW1oWBFmZ",
      "metadata": {
        "id": "1aPNW1oWBFmZ"
      },
      "outputs": [],
      "source": [
        "video_path = \"./ict3104-team12-2023/data/input_files/pose_examples/\"\n",
        "\n",
        "video_files = [f for f in os.listdir(video_path) if f.endswith(\".mov\")]\n",
        "\n",
        "video_dropdown = widgets.Dropdown(\n",
        "    options=video_files,\n",
        "    description='Select a video:',\n",
        ")\n",
        "\n",
        "# Variable to store the selected video\n",
        "selected_video = None\n",
        "video_file_path = None\n",
        "\n",
        "# Display the selected video and store the selection in the variable\n",
        "def display_video(selected):\n",
        "    global selected_video, video_file_path\n",
        "    selected_video = selected\n",
        "    video_file_path = os.path.join(video_path, selected)\n",
        "    display(Video(video_file_path, width=400, height=300))\n",
        "\n",
        "    # Update the print statement\n",
        "    print(\"Selected video:\", selected_video)\n",
        "\n",
        "interactive(display_video, selected=video_dropdown)"
      ]
    },
    {
      "cell_type": "code",
      "execution_count": null,
      "id": "2e7e7fa6",
      "metadata": {
        "id": "2e7e7fa6"
      },
      "outputs": [],
      "source": [
        "%cd FollowYourPose\n",
        "#get all variables needed\n",
        "#yaml config used path\n",
        "yaml_config_path = yaml_file_path #YAML path extracted from selection\n",
        "\n",
        "#skeleton path\n",
        "initial_skeleton_path = video_file_path #skeleton path extracted from selection\n",
        "actual_skeleton_path = initial_skeleton_path[0:-4] + \".mp4\"\n",
        "\n",
        "#convert skeleton vid to mp4\n",
        "if not os.path.isfile(actual_skeleton_path):\n",
        "    !ffmpeg -i {initial_skeleton_path} {actual_skeleton_path}\n",
        "\n",
        "#Execute Inference to produce results\n",
        "result_array = !TORCH_DISTRIBUTED_DEBUG=DETAIL accelerate launch txt2video.py --config={yaml_config_path} --skeleton_path={initial_skeleton_path}\n",
        "#find result path\n",
        "for i in range(len(result_array),0,-1):\n",
        "  if \"Saved samples to\" in result_array[i]:\n",
        "    result_location = result_array[i].split(\"to \")\n",
        "    break\n",
        "\n",
        "result_path = result_location[1][0:-4] #result path extracted from finished result"
      ]
    },
    {
      "cell_type": "code",
      "execution_count": null,
      "id": "1fa5354b",
      "metadata": {
        "id": "1fa5354b"
      },
      "outputs": [],
      "source": [
        "#Build and Combine Files\n",
        "for (dirpath, dirnames, filenames) in walk(result_path):\n",
        "    break\n",
        "\n",
        "#Temporarily store snippet of video here\n",
        "new_skeleton_path = \"./pose_example/Dummy1.mp4\" #change this to reference a possible path\n",
        "edited_video_path = \"./pose_example/Dummy.mp4\"  #change this to reference a possible path\n",
        "\n",
        "#result video path\n",
        "outputFile = \"./output/samples/\"\n",
        "#Edit video based on inputs\n",
        "ffmpeg_extract_subclip(actual_skeleton_path,0,0.544,targetname=edited_video_path) #cut's video\n",
        "!ffmpeg -i {edited_video_path} -vf \"setpts=1.65*PTS\" {new_skeleton_path} #slow video down\n",
        "\n",
        "clear_output(wait=True)\n",
        "\n",
        "#initialize list to save all result videos\n",
        "all_Results = []\n",
        "\n",
        "#display all results\n",
        "for i in filenames:\n",
        "    tempOutputPath = outputFile+i[0:-3]+\" Combined.mp4\"\n",
        "    #produce superImpose Clip\n",
        "    result_clip = mpe.VideoFileClip(result_path+\"/\"+i, target_resolution=(1080,1920))\n",
        "\n",
        "    overlay_clip = mpe.VideoFileClip(new_skeleton_path, has_mask=True, target_resolution=(1080,1920))\n",
        "    masked_clip = mpe.vfx.mask_color(overlay_clip,color=[0,0,0])\n",
        "\n",
        "    superImpose_clip = mpe.CompositeVideoClip([result_clip,masked_clip])\n",
        "    combined_clip = mpe.clips_array([[result_clip,overlay_clip,superImpose_clip]])\n",
        "    combined_clip = combined_clip.resize((1680,560))\n",
        "    combined_clip.write_videofile(\n",
        "        tempOutputPath,\n",
        "        remove_temp=True,\n",
        "        codec=\"libx264\",\n",
        "        audio_codec=\"aac\",\n",
        "        threads=6\n",
        "    )\n",
        "\n",
        "    all_Results.append(tempOutputPath)\n",
        "\n",
        "#delete Temporary files\n",
        "!rm {edited_video_path}\n",
        "!rm {new_skeleton_path}"
      ]
    },
    {
      "cell_type": "code",
      "execution_count": null,
      "id": "b315f30a",
      "metadata": {
        "id": "b315f30a"
      },
      "outputs": [],
      "source": [
        "#display results\n",
        "for i in all_Results:\n",
        "    #Formatting\n",
        "    grid = widgets.GridspecLayout(2,1) #(i,j) i= number of columns, j= number of rows\n",
        "\n",
        "    container = widgets.VBox([grid], layout = widgets.Layout(\n",
        "        height = '650px',\n",
        "        width='1690px',\n",
        "        border='3px solid black',\n",
        "        justify_content = 'center',\n",
        "        align_items='center'\n",
        "    ))\n",
        "\n",
        "    #show skeleton video\n",
        "    out = widgets.Output()\n",
        "    with out:\n",
        "        display(Video(i,embed=True,html_attributes=\"loop autoplay\"))\n",
        "    grid[0,0] = out\n",
        "\n",
        "    #display prompt\n",
        "    out = widgets.Output()\n",
        "    with out:\n",
        "        display(HTML(\"<center><h1>\"+i[0:-14].split(\"/\")[3]+\"</h1></center>\"))\n",
        "    grid[1,:] = out\n",
        "\n",
        "    display(container)"
      ]
    },
    {
      "cell_type": "markdown",
      "id": "5148b9ef",
      "metadata": {
        "id": "5148b9ef"
      },
      "source": [
        "## Training"
      ]
    },
    {
      "cell_type": "code",
      "execution_count": null,
      "id": "36377ef1",
      "metadata": {
        "id": "36377ef1"
      },
      "outputs": [],
      "source": [
        "# Define source path for pose_train.yaml\n",
        "pose_train_source_file = \"/content/ict3104-team12-2023/training_config_files/pose_train.yaml\"\n",
        "\n",
        "# Define destination path for pose_train.yaml\n",
        "pose_train_destination_file = \"/content/ict3104-team12-2023/FollowYourPose/configs/pose_train.yaml\"\n",
        "\n",
        "# Copy \"pose_train.yaml\" to the destination directory\n",
        "shutil.copy(pose_train_source_file, pose_train_destination_file)"
      ]
    },
    {
      "cell_type": "markdown",
      "id": "e07e552c",
      "metadata": {
        "id": "e07e552c"
      },
      "source": [
        "This part might not be necessary anymore as client states that changing epoch and batch size is not needed.\n",
        "\n",
        "However, it will still be needed for ease of directly updating the batch size and max train steps so that we do not need to update manually, since colab GPU is unable to compute high batch size and train steps. (batch_size = 1, max_train_steps = 5)"
      ]
    },
    {
      "cell_type": "code",
      "execution_count": null,
      "id": "c8dc9f91",
      "metadata": {
        "id": "c8dc9f91"
      },
      "outputs": [],
      "source": [
        "# Load the existing YAML configuration from pose_train.yaml\n",
        "with open('./configs/pose_train.yaml', 'r') as file:\n",
        "    yaml = ruamel.yaml.YAML()\n",
        "    data = yaml.load(file)\n",
        "\n",
        "# Define the generate pose_train.yaml function\n",
        "def generate_yaml(b):\n",
        "    # Convert the values in the text widgets to integers (since by default they are treated as strings)\n",
        "    train_batch_size = int(batch_size_widget.value)\n",
        "    max_train_steps = int(max_train_steps_widget.value)\n",
        "\n",
        "    # Update the placeholders with the respective values\n",
        "    data[\"train_batch_size\"] = train_batch_size\n",
        "    data[\"max_train_steps\"] = max_train_steps\n",
        "\n",
        "    # Write the updated data back to the pose_train.yaml file\n",
        "    with open('./configs/pose_train.yaml', 'w') as file:\n",
        "        yaml.dump(data, file)\n",
        "\n",
        "# Create the model name, batch size, and max train steps text widgets\n",
        "model_name_widget = widgets.Text(description='Model Name:')\n",
        "batch_size_widget = widgets.Text(description='Batch Size:')\n",
        "max_train_steps_widget = widgets.Text(description='Max Train Steps')\n",
        "\n",
        "# Create a button to trigger the update\n",
        "update_button = widgets.Button(description='Update')\n",
        "update_button.on_click(generate_yaml)\n",
        "\n",
        "# Display widgets\n",
        "display(model_name_widget)\n",
        "display(batch_size_widget)\n",
        "display(max_train_steps_widget)\n",
        "display(update_button)"
      ]
    },
    {
      "cell_type": "code",
      "execution_count": null,
      "id": "05dd6797",
      "metadata": {
        "id": "05dd6797"
      },
      "outputs": [],
      "source": [
        "# Define source paths for hdvila, train_followyourpose\n",
        "hdvila_source_file = \"/content/ict3104-team12-2023/training_config_files/hdvila.py\"\n",
        "train_followyourpose_source_file = \"/content/ict3104-team12-2023/training_config_files/train_followyourpose.py\"\n",
        "\n",
        "# Define destination paths for hdvila, train_followyourpose\n",
        "hdvila_destination_file = \"/content/ict3104-team12-2023/FollowYourPose/followyourpose/data/hdvila.py\"\n",
        "train_followyourpose_destination_file = \"/content/ict3104-team12-2023/FollowYourPose/train_followyourpose.py\"\n",
        "\n",
        "# Copy \"hdvila.py\" to the destination directory\n",
        "shutil.copy(hdvila_source_file, hdvila_destination_file)\n",
        "\n",
        "# Copy \"train_followyourpose\" to the destination directory\n",
        "shutil.copy(train_followyourpose_source_file, train_followyourpose_destination_file)\n",
        "\n",
        "# Define source and destination paths for pose_example skeleton videos\n",
        "#pose_examples_source_directory = '/content/ict3104-team12-2023/data/input_files/pose_examples'\n",
        "pose_examples_source_directory = '/content/ict3104-team12-2023/data/input_files/training_videos'\n",
        "pose_examples_destination_directory = '/content/ict3104-team12-2023/FollowYourPose/followyourpose/data'\n",
        "\n",
        "# Filter out hidden files and count the number of video files\n",
        "video_files = [f for f in os.listdir(pose_examples_source_directory) if f.endswith('.mp4')]\n",
        "num_videos = len(video_files)\n",
        "\n",
        "# Create the part_id folders based on the number of videos\n",
        "for part_id in range(1, num_videos + 1):\n",
        "    part_folder = os.path.join(pose_examples_destination_directory, f'part_{part_id}')\n",
        "    os.makedirs(part_folder, exist_ok=True)\n",
        "\n",
        "# Distribute each video into a separate video_clips folder with an ascending index\n",
        "for i, video_file in enumerate(video_files[:10]):\n",
        "    part_id = i + 1\n",
        "    part_folder = os.path.join(pose_examples_destination_directory, f'part_{part_id}')\n",
        "    video_clips_folder = os.path.join(part_folder, 'video_clips')\n",
        "    os.makedirs(video_clips_folder, exist_ok=True)\n",
        "\n",
        "    source_path = os.path.join(pose_examples_source_directory, video_file)\n",
        "    video_count = 1\n",
        "\n",
        "    while True:\n",
        "        destination_path = os.path.join(video_clips_folder, f'{video_count:04}.mp4')\n",
        "        if not os.path.exists(destination_path):\n",
        "            break\n",
        "        video_count += 1\n",
        "\n",
        "    shutil.copy(source_path, destination_path)\n",
        "\n",
        "# Create the CSV file\n",
        "csv_filename = 'caption_rm2048_train.csv'\n",
        "csv_path = os.path.join(pose_examples_destination_directory, csv_filename)\n",
        "\n",
        "# Create and open the CSV file in write mode\n",
        "with open(csv_path, 'w', newline='') as csv_file:\n",
        "    fieldnames = ['part_id', 'clip_id', 'caption']\n",
        "    writer = csv.DictWriter(csv_file, fieldnames=fieldnames)\n",
        "\n",
        "    # Write the header row\n",
        "    writer.writeheader()\n",
        "\n",
        "    # Iterate through the part folders and video clips\n",
        "    for part_id in range(1, num_videos + 1):\n",
        "        part_folder = os.path.join(pose_examples_destination_directory, f'part_{part_id}')\n",
        "        video_clips_folder = os.path.join(part_folder, 'video_clips')\n",
        "\n",
        "        for clip_id, video_file in enumerate(os.listdir(video_clips_folder), start=1):\n",
        "            # Create the caption by concatenating part_id and clip_id\n",
        "            caption = f'{part_id}_{clip_id:04}'\n",
        "            clip_id = f'{clip_id:04}'\n",
        "\n",
        "            # Write the data to the CSV file\n",
        "            writer.writerow({'part_id': part_id, 'clip_id': clip_id, 'caption': caption})\n",
        "\n",
        "print(f'CSV file \"{csv_filename}\" has been created at: {csv_path}')"
      ]
    },
    {
      "cell_type": "code",
      "execution_count": null,
      "id": "703980fc",
      "metadata": {
        "id": "703980fc"
      },
      "outputs": [],
      "source": [
        "# Define the CSV path\n",
        "csv_path = '/content/ict3104-team12-2023/FollowYourPose/followyourpose/data/caption_rm2048_train.csv'\n",
        "\n",
        "# Define the base path for video clips\n",
        "base_path = \"/content/ict3104-team12-2023/FollowYourPose/followyourpose/data\"\n",
        "\n",
        "# Create an empty dictionary to store config.yaml file paths\n",
        "config_files = {}\n",
        "\n",
        "def get_part_id(directory_name):\n",
        "    # Extract the part ID from the directory name\n",
        "    return directory_name.replace(\"part_\", \"\")\n",
        "\n",
        "def iterate_video_clips(base_path, destination_folder, csv_data, config_files):\n",
        "    for part_dir in os.listdir(base_path):\n",
        "        if part_dir.startswith(\"part_\"):\n",
        "            part_path = os.path.join(base_path, part_dir, \"video_clips\")\n",
        "            part_id = get_part_id(part_dir)\n",
        "\n",
        "            if os.path.exists(part_path):\n",
        "                clip_counter = 0\n",
        "\n",
        "                for clip_file in os.listdir(part_path):\n",
        "                    # Use the 'clip_id' from CSV data directly\n",
        "                    clip_id = clip_file.split('.')[0]\n",
        "\n",
        "                    # Check if the clip_id (file name) exists in the CSV data\n",
        "                    for row in csv_data:\n",
        "                        if row['clip_id'] == clip_id and row['part_id'] == part_id:\n",
        "                            video_info = row\n",
        "\n",
        "                            # Construct the video path based on the clip_file and the base path\n",
        "                            video_path = os.path.join(part_path, clip_file)\n",
        "\n",
        "                            if os.path.exists(video_path):\n",
        "                                clip_counter += 1\n",
        "                                clip_id_with_zeros = str(clip_counter).zfill(4)\n",
        "\n",
        "                                print(f\"Part ID: {part_id}\")\n",
        "                                print(f\"Clip ID: {clip_id_with_zeros}\")\n",
        "                                print(f\"Found video info: {video_info}\")\n",
        "                                print(f\"Video path: {video_path}\")\n",
        "                                print(f\"Processing video for Clip ID: {clip_id_with_zeros}\")\n",
        "\n",
        "                                # Load the pose_train.yaml\n",
        "                                with open('/content/ict3104-team12-2023/FollowYourPose/configs/pose_train.yaml', 'r') as config_file:\n",
        "                                    config = yaml.safe_load(config_file)\n",
        "\n",
        "                                # Update the skeleton_path in the config dictionary\n",
        "                                config['skeleton_path'] = f\"./followyourpose/data/part_{part_id}/video_clips/{clip_id_with_zeros}.mp4\"\n",
        "\n",
        "                                # Save the updated config to a new file for each clip\n",
        "                                config_file_path = os.path.join(destination_folder, f\"config_{clip_id_with_zeros}_{part_id}.yaml\")\n",
        "                                with open(config_file_path, 'w') as new_config_file:\n",
        "                                    yaml.dump(config, new_config_file, default_flow_style=False)\n",
        "\n",
        "                                # Execute the accelerate command on the video\n",
        "                                command = f\"TORCH_DISTRIBUTED_DEBUG=DETAIL accelerate launch train_followyourpose.py --config='{config_file_path}' --skeleton_path='{video_path}'\"\n",
        "                                result = subprocess.run(command, shell=True, stdout=subprocess.PIPE, stderr=subprocess.PIPE)\n",
        "                                print(result.stdout.decode())\n",
        "                                print(result.stderr.decode())\n",
        "                                print(f\"Finished processing video: {video_path}\")\n",
        "\n",
        "                                # Copy the entire output folder to the destination folder\n",
        "                                source_output_folder = \"/content/ict3104-team12-2023/FollowYourPose/output\"\n",
        "                                destination_output_folder = os.path.join(destination_folder, f\"output_{clip_id_with_zeros}_{part_id}\")\n",
        "                                shutil.copytree(source_output_folder, destination_output_folder)\n",
        "\n",
        "                                if result.returncode == 0:\n",
        "                                    print(f\"Finished processing video for Clip ID: {clip_id_with_zeros}\")\n",
        "                                else:\n",
        "                                    print(f\"Error processing video for Clip ID: {clip_id_with_zeros}\")\n",
        "                            else:\n",
        "                                print(f\"Video path not found for Clip ID: {clip_id_with_zeros}\")\n",
        "\n",
        "# Define the destination folder for config.yaml files\n",
        "destination_folder = '/content/ict3104-team12-2023/data/models/trained_model'\n",
        "\n",
        "# Load CSV data into a list of dictionaries\n",
        "csv_data = []\n",
        "with open(csv_path, 'r', newline='') as csv_file:\n",
        "    reader = csv.DictReader(csv_file)\n",
        "    for row in reader:\n",
        "        csv_data.append(row)\n",
        "\n",
        "# Process the videos and generate the config.yaml files\n",
        "iterate_video_clips(base_path, destination_folder, csv_data, config_files)"
      ]
    },
    {
      "cell_type": "code",
      "execution_count": null,
      "id": "a66f4d28",
      "metadata": {
        "id": "a66f4d28"
      },
      "outputs": [],
      "source": [
        "\n",
        "# Create a progress bar widget\n",
        "progress_bar = widgets.IntProgress(\n",
        "    value=0,\n",
        "    min=0,\n",
        "    max=100,\n",
        "    description='Progress:',\n",
        "    bar_style='info',\n",
        ")\n",
        "\n",
        "# Display the progress bar\n",
        "display(progress_bar)\n",
        "\n",
        "# Define the number of iterations in your for loop\n",
        "total_iterations = 100\n",
        "\n",
        "# Use tqdm to create a progress bar for the for loop\n",
        "for i in tqdm(range(total_iterations), desc=\"Processing\"):\n",
        "    # Simulate some work being done\n",
        "    time.sleep(0.1)\n",
        "\n",
        "    # Update the progress bar\n",
        "    progress_bar.value = (i / total_iterations) * 100\n",
        "\n",
        "# Remove the progress bar when the loop is complete\n",
        "progress_bar.close()\n"
      ]
    },
    {
      "cell_type": "code",
      "execution_count": null,
      "id": "e60d2931",
      "metadata": {
        "id": "e60d2931"
      },
      "outputs": [],
      "source": [
        "# Saving most optimal model config\n",
        "\n",
        "# Change to the source directory\n",
        "source_dir = \"/content/ict3104-team12-2023/data/models/trained_model\"\n",
        "os.chdir(source_dir)\n",
        "\n",
        "# Find all the subdirectories in the source directory\n",
        "subdirectories = [d for d in os.listdir() if os.path.isdir(d)]\n",
        "\n",
        "if subdirectories:\n",
        "    # Sort the subdirectories by modification time to get the latest one\n",
        "    latest_subdirectory = max(subdirectories, key=lambda d: os.path.getmtime(os.path.join(source_dir, d)))\n",
        "\n",
        "    # Define the destination directory\n",
        "    destination_dir = \"/content/ict3104-team12-2023/data/models/final_model\"\n",
        "\n",
        "    # Check if the destination directory exists, create it if it doesn't\n",
        "    if not os.path.exists(destination_dir):\n",
        "        os.makedirs(destination_dir)\n",
        "\n",
        "    # Get the current timestamp in the format yyyymmdd_hhmmss\n",
        "    timestamp = datetime.datetime.now().strftime(\"%Y%m%d_%H%M%S\")\n",
        "\n",
        "    # Create the new directory name with the timestamp\n",
        "    new_directory_name = f\"{latest_subdirectory}_{timestamp}\"\n",
        "\n",
        "    # Combine the destination directory and the new directory name\n",
        "    new_destination_directory = os.path.join(destination_dir, new_directory_name)\n",
        "\n",
        "    # Move the latest subdirectory to the destination directory with the new directory name\n",
        "    shutil.move(os.path.join(source_dir, latest_subdirectory), new_destination_directory)\n",
        "    print(f\"Latest output folder renamed and moved to '{new_destination_directory}'.\")\n",
        "else:\n",
        "    print(\"No output folders found in the source directory.\")"
      ]
    },
    {
      "cell_type": "markdown",
      "id": "23f39f8c",
      "metadata": {
        "id": "23f39f8c"
      },
      "source": [
        "## Testing"
      ]
    },
    {
      "cell_type": "markdown",
      "id": "f6688463",
      "metadata": {
        "id": "f6688463"
      },
      "source": []
    },
    {
      "cell_type": "code",
      "execution_count": null,
      "id": "nNqUIMclVZOk",
      "metadata": {
        "id": "nNqUIMclVZOk"
      },
      "outputs": [],
      "source": [
        "# For dataset subfolders\n",
        "folder_path = \"./ict3104-team12-2023/data/\"\n",
        "\n",
        "subfolders = [f for f in os.listdir(folder_path) if os.path.isdir(os.path.join(folder_path, f))]\n",
        "\n",
        "dropdown = widgets.Dropdown(\n",
        "    options=subfolders,\n",
        "    description='Select a subfolder:',\n",
        ")\n",
        "\n",
        "# Variable to store the selected subfolder\n",
        "selected_subfolder = None\n",
        "\n",
        "# Display the selected subfolder\n",
        "def display_selected_subfolder(selected):\n",
        "    global selected_subfolder\n",
        "    selected_subfolder = selected\n",
        "    clear_output()\n",
        "    print(f\"Selected subfolder: {selected_subfolder}\")\n",
        "\n",
        "interactive(display_selected_subfolder, selected=dropdown)"
      ]
    },
    {
      "cell_type": "code",
      "execution_count": null,
      "id": "iXvSMYXpVa8_",
      "metadata": {
        "id": "iXvSMYXpVa8_"
      },
      "outputs": [],
      "source": [
        "# For model / config file selection\n",
        "folder_path = \"./ict3104-team12-2023/data/models/\"\n",
        "\n",
        "yaml_files = [f for f in os.listdir(folder_path) if f.endswith(\".yaml\")]\n",
        "all_files = os.listdir(folder_path)\n",
        "\n",
        "dropdown = widgets.Dropdown(\n",
        "    options=all_files,\n",
        "    description='Select a model:',\n",
        ")\n",
        "\n",
        "# Variable to store the selected file\n",
        "selected_file = None\n",
        "\n",
        "# Display the selected file\n",
        "def display_selected_file(selected):\n",
        "    global selected_file\n",
        "    selected_file = selected\n",
        "    clear_output()\n",
        "    print(f\"Selected file: {selected_file}\")\n",
        "\n",
        "interactive(display_selected_file, selected=dropdown)"
      ]
    }
  ],
  "metadata": {
    "colab": {
      "provenance": []
    },
    "kernelspec": {
      "display_name": "Python 3 (ipykernel)",
      "language": "python",
      "name": "python3"
    },
    "language_info": {
      "codemirror_mode": {
        "name": "ipython",
        "version": 3
      },
      "file_extension": ".py",
      "mimetype": "text/x-python",
      "name": "python",
      "nbconvert_exporter": "python",
      "pygments_lexer": "ipython3",
      "version": "3.11.4"
    },
    "widgets": {
      "application/vnd.jupyter.widget-state+json": {
        "04a8b2a90b0c4471975882da4c1c72b7": {
          "model_module": "@jupyter-widgets/output",
          "model_module_version": "1.0.0",
          "model_name": "OutputModel",
          "state": {
            "_dom_classes": [],
            "_model_module": "@jupyter-widgets/output",
            "_model_module_version": "1.0.0",
            "_model_name": "OutputModel",
            "_view_count": null,
            "_view_module": "@jupyter-widgets/output",
            "_view_module_version": "1.0.0",
            "_view_name": "OutputView",
            "layout": "IPY_MODEL_cad39402ae39487a957cf309e4168320",
            "msg_id": "",
            "outputs": []
          }
        },
        "2975c9ecec244361a937475a1b9ea409": {
          "model_module": "@jupyter-widgets/base",
          "model_module_version": "1.2.0",
          "model_name": "LayoutModel",
          "state": {
            "_model_module": "@jupyter-widgets/base",
            "_model_module_version": "1.2.0",
            "_model_name": "LayoutModel",
            "_view_count": null,
            "_view_module": "@jupyter-widgets/base",
            "_view_module_version": "1.2.0",
            "_view_name": "LayoutView",
            "align_content": null,
            "align_items": null,
            "align_self": null,
            "border": null,
            "bottom": null,
            "display": null,
            "flex": null,
            "flex_flow": null,
            "grid_area": null,
            "grid_auto_columns": null,
            "grid_auto_flow": null,
            "grid_auto_rows": null,
            "grid_column": null,
            "grid_gap": null,
            "grid_row": null,
            "grid_template_areas": null,
            "grid_template_columns": null,
            "grid_template_rows": null,
            "height": null,
            "justify_content": null,
            "justify_items": null,
            "left": null,
            "margin": null,
            "max_height": null,
            "max_width": null,
            "min_height": null,
            "min_width": null,
            "object_fit": null,
            "object_position": null,
            "order": null,
            "overflow": null,
            "overflow_x": null,
            "overflow_y": null,
            "padding": null,
            "right": null,
            "top": null,
            "visibility": null,
            "width": null
          }
        },
        "2bc73264c1e24149807636789412cfac": {
          "model_module": "@jupyter-widgets/controls",
          "model_module_version": "1.5.0",
          "model_name": "TextareaModel",
          "state": {
            "_dom_classes": [],
            "_model_module": "@jupyter-widgets/controls",
            "_model_module_version": "1.5.0",
            "_model_name": "TextareaModel",
            "_view_count": null,
            "_view_module": "@jupyter-widgets/controls",
            "_view_module_version": "1.5.0",
            "_view_name": "TextareaView",
            "continuous_update": true,
            "description": "Prompts:",
            "description_tooltip": null,
            "disabled": false,
            "layout": "IPY_MODEL_2975c9ecec244361a937475a1b9ea409",
            "placeholder": "​",
            "rows": 4,
            "style": "IPY_MODEL_bc0ca92985d043b8ac3805524c058a29",
            "value": "Iron man on the beach\nStormtrooper on the sea\nAstronaut on the beach"
          }
        },
        "75449e426fdd48e9b51ed284c7a65117": {
          "model_module": "@jupyter-widgets/controls",
          "model_module_version": "1.5.0",
          "model_name": "TextModel",
          "state": {
            "_dom_classes": [],
            "_model_module": "@jupyter-widgets/controls",
            "_model_module_version": "1.5.0",
            "_model_name": "TextModel",
            "_view_count": null,
            "_view_module": "@jupyter-widgets/controls",
            "_view_module_version": "1.5.0",
            "_view_name": "TextView",
            "continuous_update": true,
            "description": "Pretrained Model Path:",
            "description_tooltip": null,
            "disabled": false,
            "layout": "IPY_MODEL_cf0b4b30beb340fca108318a5233eeb6",
            "placeholder": "​",
            "style": "IPY_MODEL_f91e3dbb4339470aab7f09b5891dcf00",
            "value": "./checkpoints/stable-diffusion-v1-4"
          }
        },
        "977aac6adce243e693a2df8d3a2f4ef2": {
          "model_module": "@jupyter-widgets/controls",
          "model_module_version": "1.5.0",
          "model_name": "ButtonModel",
          "state": {
            "_dom_classes": [],
            "_model_module": "@jupyter-widgets/controls",
            "_model_module_version": "1.5.0",
            "_model_name": "ButtonModel",
            "_view_count": null,
            "_view_module": "@jupyter-widgets/controls",
            "_view_module_version": "1.5.0",
            "_view_name": "ButtonView",
            "button_style": "",
            "description": "Update Config",
            "disabled": false,
            "icon": "",
            "layout": "IPY_MODEL_e12fe6971c2940f0b0e791b47ba1e6ee",
            "style": "IPY_MODEL_df5a151304514941979e9fb54bf9b9f2",
            "tooltip": ""
          }
        },
        "bc0ca92985d043b8ac3805524c058a29": {
          "model_module": "@jupyter-widgets/controls",
          "model_module_version": "1.5.0",
          "model_name": "DescriptionStyleModel",
          "state": {
            "_model_module": "@jupyter-widgets/controls",
            "_model_module_version": "1.5.0",
            "_model_name": "DescriptionStyleModel",
            "_view_count": null,
            "_view_module": "@jupyter-widgets/base",
            "_view_module_version": "1.2.0",
            "_view_name": "StyleView",
            "description_width": ""
          }
        },
        "cad39402ae39487a957cf309e4168320": {
          "model_module": "@jupyter-widgets/base",
          "model_module_version": "1.2.0",
          "model_name": "LayoutModel",
          "state": {
            "_model_module": "@jupyter-widgets/base",
            "_model_module_version": "1.2.0",
            "_model_name": "LayoutModel",
            "_view_count": null,
            "_view_module": "@jupyter-widgets/base",
            "_view_module_version": "1.2.0",
            "_view_name": "LayoutView",
            "align_content": null,
            "align_items": null,
            "align_self": null,
            "border": null,
            "bottom": null,
            "display": null,
            "flex": null,
            "flex_flow": null,
            "grid_area": null,
            "grid_auto_columns": null,
            "grid_auto_flow": null,
            "grid_auto_rows": null,
            "grid_column": null,
            "grid_gap": null,
            "grid_row": null,
            "grid_template_areas": null,
            "grid_template_columns": null,
            "grid_template_rows": null,
            "height": null,
            "justify_content": null,
            "justify_items": null,
            "left": null,
            "margin": null,
            "max_height": null,
            "max_width": null,
            "min_height": null,
            "min_width": null,
            "object_fit": null,
            "object_position": null,
            "order": null,
            "overflow": null,
            "overflow_x": null,
            "overflow_y": null,
            "padding": null,
            "right": null,
            "top": null,
            "visibility": null,
            "width": null
          }
        },
        "cf0b4b30beb340fca108318a5233eeb6": {
          "model_module": "@jupyter-widgets/base",
          "model_module_version": "1.2.0",
          "model_name": "LayoutModel",
          "state": {
            "_model_module": "@jupyter-widgets/base",
            "_model_module_version": "1.2.0",
            "_model_name": "LayoutModel",
            "_view_count": null,
            "_view_module": "@jupyter-widgets/base",
            "_view_module_version": "1.2.0",
            "_view_name": "LayoutView",
            "align_content": null,
            "align_items": null,
            "align_self": null,
            "border": null,
            "bottom": null,
            "display": null,
            "flex": null,
            "flex_flow": null,
            "grid_area": null,
            "grid_auto_columns": null,
            "grid_auto_flow": null,
            "grid_auto_rows": null,
            "grid_column": null,
            "grid_gap": null,
            "grid_row": null,
            "grid_template_areas": null,
            "grid_template_columns": null,
            "grid_template_rows": null,
            "height": null,
            "justify_content": null,
            "justify_items": null,
            "left": null,
            "margin": null,
            "max_height": null,
            "max_width": null,
            "min_height": null,
            "min_width": null,
            "object_fit": null,
            "object_position": null,
            "order": null,
            "overflow": null,
            "overflow_x": null,
            "overflow_y": null,
            "padding": null,
            "right": null,
            "top": null,
            "visibility": null,
            "width": null
          }
        },
        "df5a151304514941979e9fb54bf9b9f2": {
          "model_module": "@jupyter-widgets/controls",
          "model_module_version": "1.5.0",
          "model_name": "ButtonStyleModel",
          "state": {
            "_model_module": "@jupyter-widgets/controls",
            "_model_module_version": "1.5.0",
            "_model_name": "ButtonStyleModel",
            "_view_count": null,
            "_view_module": "@jupyter-widgets/base",
            "_view_module_version": "1.2.0",
            "_view_name": "StyleView",
            "button_color": null,
            "font_weight": ""
          }
        },
        "e12fe6971c2940f0b0e791b47ba1e6ee": {
          "model_module": "@jupyter-widgets/base",
          "model_module_version": "1.2.0",
          "model_name": "LayoutModel",
          "state": {
            "_model_module": "@jupyter-widgets/base",
            "_model_module_version": "1.2.0",
            "_model_name": "LayoutModel",
            "_view_count": null,
            "_view_module": "@jupyter-widgets/base",
            "_view_module_version": "1.2.0",
            "_view_name": "LayoutView",
            "align_content": null,
            "align_items": null,
            "align_self": null,
            "border": null,
            "bottom": null,
            "display": null,
            "flex": null,
            "flex_flow": null,
            "grid_area": null,
            "grid_auto_columns": null,
            "grid_auto_flow": null,
            "grid_auto_rows": null,
            "grid_column": null,
            "grid_gap": null,
            "grid_row": null,
            "grid_template_areas": null,
            "grid_template_columns": null,
            "grid_template_rows": null,
            "height": null,
            "justify_content": null,
            "justify_items": null,
            "left": null,
            "margin": null,
            "max_height": null,
            "max_width": null,
            "min_height": null,
            "min_width": null,
            "object_fit": null,
            "object_position": null,
            "order": null,
            "overflow": null,
            "overflow_x": null,
            "overflow_y": null,
            "padding": null,
            "right": null,
            "top": null,
            "visibility": null,
            "width": null
          }
        },
        "f91e3dbb4339470aab7f09b5891dcf00": {
          "model_module": "@jupyter-widgets/controls",
          "model_module_version": "1.5.0",
          "model_name": "DescriptionStyleModel",
          "state": {
            "_model_module": "@jupyter-widgets/controls",
            "_model_module_version": "1.5.0",
            "_model_name": "DescriptionStyleModel",
            "_view_count": null,
            "_view_module": "@jupyter-widgets/base",
            "_view_module_version": "1.2.0",
            "_view_name": "StyleView",
            "description_width": ""
          }
        }
      }
    }
  },
  "nbformat": 4,
  "nbformat_minor": 5
}