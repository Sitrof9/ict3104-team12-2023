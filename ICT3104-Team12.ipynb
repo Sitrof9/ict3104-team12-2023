{
 "cells": [
  {
   "cell_type": "markdown",
   "id": "44c9d517",
   "metadata": {
    "id": "44c9d517"
   },
   "source": [
    "# ICT3104 Project Team 12"
   ]
  },
  {
   "cell_type": "markdown",
   "id": "8fd57044",
   "metadata": {
    "id": "8fd57044"
   },
   "source": [
    "## Setup\n",
    "These libraries are required to run the tool."
   ]
  },
  {
   "cell_type": "code",
   "execution_count": 1,
   "id": "ec8b1b91",
   "metadata": {
    "id": "ec8b1b91"
   },
   "outputs": [],
   "source": [
    "# Import libraries\n",
    "import os\n",
    "import ipywidgets as widgets\n",
    "from ipywidgets import interact, interact_manual\n",
    "from IPython.display import display, clear_output, Video\n",
    "import yaml"
   ]
  },
  {
   "cell_type": "markdown",
   "id": "6e67c3ce",
   "metadata": {
    "id": "6e67c3ce"
   },
   "source": [
    "## Data Exploration\n",
    "This section lets you select and view the videos from the data/input_files/training_videos folder, allowing you to verify if you have chosen the correct video.\n",
    "To view the videos, select an option from the dropdown video and wait for the video to be displayed."
   ]
  },
  {
   "cell_type": "code",
   "execution_count": 2,
   "id": "194a1c06",
   "metadata": {
    "id": "194a1c06"
   },
   "outputs": [
    {
     "data": {
      "application/vnd.jupyter.widget-view+json": {
       "model_id": "43bef263609643c1835a8f4cf9ca1c4d",
       "version_major": 2,
       "version_minor": 0
      },
      "text/plain": [
       "interactive(children=(Dropdown(description='file', options=('6R7QW.mp4', 'CCCUJ.mp4', 'HB9LP.mp4', 'JIR5V.mp4'…"
      ]
     },
     "metadata": {},
     "output_type": "display_data"
    }
   ],
   "source": [
    "# Define folder path of training videos\n",
    "folder_path = \"./data/input_files/training_videos/\"\n",
    "\n",
    "# Display video based on file chosen from the folder\n",
    "@interact\n",
    "def show_video(file=os.listdir(folder_path)):\n",
    "    if(\".mp4\" not in file):\n",
    "        print(\"Please choose a file with .mp4 format.\")\n",
    "        return\n",
    "    video_path = f\"{folder_path}{file}\"\n",
    "    video_display = Video(video_path, width=400, height=400, embed=True)\n",
    "    display(video_display)"
   ]
  },
  {
   "cell_type": "markdown",
   "id": "6cd395be",
   "metadata": {
    "id": "6cd395be"
   },
   "source": [
    "## Inference"
   ]
  },
  {
   "cell_type": "code",
   "execution_count": null,
   "id": "0bd03a32",
   "metadata": {
    "id": "0bd03a32"
   },
   "outputs": [],
   "source": [
    "# Create a text input widget for pretrained_model_path\n",
    "pretrained_model_path_input = widgets.Text(\n",
    "    value=\"./checkpoints/stable-diffusion-v1-4\",\n",
    "    description=\"Pretrained Model Path:\",\n",
    ")\n",
    "\n",
    "# Declare the validation_data dictionary\n",
    "validation_data = {\n",
    "    'prompts': [\n",
    "        \"Iron man on the beach\",\n",
    "        \"Stormtrooper on the sea\",\n",
    "        \"Astronaut on the beach\"\n",
    "    ],\n",
    "    'video_length': 32,\n",
    "    'width': 512,\n",
    "    'height': 512,\n",
    "    'num_inference_steps': 50,\n",
    "    'guidance_scale': 12.5,\n",
    "    'use_inv_latent': False,\n",
    "    'num_inv_steps': 50,\n",
    "    'dataset_set': 'val'\n",
    "}\n",
    "\n",
    "# Create a text input widget for prompts\n",
    "prompts_input = widgets.Textarea(\n",
    "    value = \"\\n\".join(validation_data['prompts']),\n",
    "    description = \"Prompts:\",\n",
    "    rows = 4\n",
    ")\n",
    "\n",
    "update_config_button = widgets.Button(description=\"Update Config\")\n",
    "yaml_file_path = \"./ict3104-team12-2023/configs/pose_sample.yaml\"\n",
    "output_widget = widgets.Output()\n",
    "\n",
    "def update_config(button_click):\n",
    "    updated_path = pretrained_model_path_input.value\n",
    "    updated_prompts = prompts_input.value.split(\"\\n\")\n",
    "\n",
    "    # Read the existing YAML content from the file\n",
    "    with open(yaml_file_path, 'r') as yaml_file:\n",
    "        config_data = yaml.safe_load(yaml_file)\n",
    "\n",
    "    config_data['pretrained_model_path'] = updated_path\n",
    "    config_data['validation_data']['prompts'] = updated_prompts\n",
    "\n",
    "    # Write the updated content back to the file\n",
    "    with open(yaml_file_path, 'w') as yaml_file:\n",
    "        yaml.dump(config_data, yaml_file, default_flow_style=None, sort_keys=False)\n",
    "\n",
    "    # Display the updated YAML content in the output widget\n",
    "    with output_widget:\n",
    "        clear_output()\n",
    "        print(yaml.dump(config_data, default_flow_style=None, sort_keys=False))\n",
    "\n",
    "update_config_button.on_click(update_config)\n",
    "\n",
    "# Display input fields\n",
    "display(pretrained_model_path_input)\n",
    "display(prompts_input)\n",
    "# Preview\n",
    "display(update_config_button, output_widget)"
   ]
  },
  {
   "cell_type": "markdown",
   "id": "5148b9ef",
   "metadata": {
    "id": "5148b9ef"
   },
   "source": [
    "## Training"
   ]
  },
  {
   "cell_type": "code",
   "execution_count": null,
   "id": "c8dc9f91",
   "metadata": {
    "id": "c8dc9f91"
   },
   "outputs": [],
   "source": [
    "# Text input widget for the user's name\n",
    "name_widget = widgets.Text(description='Name:')\n",
    "\n",
    "# Dropdown widget for batch size\n",
    "batch_size_options = [16, 32, 64, 128]\n",
    "batch_size_widget = widgets.Dropdown(description='Batch Size:', options=batch_size_options)\n",
    "\n",
    "# Dropdown widget for the number of epochs\n",
    "epoch_options = [10, 20, 30, 40]\n",
    "epoch_widget = widgets.Dropdown(description='Epochs:', options=epoch_options)\n",
    "\n",
    "# Submit button\n",
    "submit_button = widgets.Button(description='Submit')\n",
    "\n",
    "# Output widget to display the results\n",
    "output_widget = widgets.Output()\n",
    "\n",
    "# Function to handle user input and display the results\n",
    "def handle_submit(button_click):\n",
    "    user_name = name_widget.value\n",
    "    batch_size = batch_size_widget.value\n",
    "    epochs = epoch_widget.value\n",
    "    \n",
    "    with output_widget:\n",
    "        output_widget.clear_output()\n",
    "        print(f\"User Name: {user_name}\")\n",
    "        print(f\"Batch Size: {batch_size}\")\n",
    "        print(f\"Epochs: {epochs}\")\n",
    "\n",
    "# Attach the event handler to the submit button\n",
    "submit_button.on_click(handle_submit)\n",
    "\n",
    "# Display widgets\n",
    "display(name_widget)\n",
    "display(batch_size_widget)\n",
    "display(epoch_widget)\n",
    "display(submit_button)\n",
    "display(output_widget)"
   ]
  },
  {
   "cell_type": "markdown",
   "id": "23f39f8c",
   "metadata": {
    "id": "23f39f8c"
   },
   "source": [
    "## Testing"
   ]
  },
  {
   "cell_type": "markdown",
   "id": "f6688463",
   "metadata": {
    "id": "f6688463"
   },
   "source": []
  }
 ],
 "metadata": {
  "colab": {
   "provenance": []
  },
  "kernelspec": {
   "display_name": "Python 3 (ipykernel)",
   "language": "python",
   "name": "python3"
  },
  "language_info": {
   "codemirror_mode": {
    "name": "ipython",
    "version": 3
   },
   "file_extension": ".py",
   "mimetype": "text/x-python",
   "name": "python",
   "nbconvert_exporter": "python",
   "pygments_lexer": "ipython3",
   "version": "3.11.4"
  }
 },
 "nbformat": 4,
 "nbformat_minor": 5
}
