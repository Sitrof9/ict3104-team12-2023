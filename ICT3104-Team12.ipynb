{
  "cells": [
    {
      "cell_type": "markdown",
      "id": "44c9d517",
      "metadata": {
        "id": "44c9d517"
      },
      "source": [
        "# ICT3104 Project Team 12"
      ]
    },
    {
      "cell_type": "markdown",
      "id": "8fd57044",
      "metadata": {
        "id": "8fd57044"
      },
      "source": [
        "## Setup\n",
        "These libraries are required to run the tool."
      ]
    },
    {
      "cell_type": "code",
      "execution_count": 1,
      "id": "ec8b1b91",
      "metadata": {
        "id": "ec8b1b91"
      },
      "outputs": [],
      "source": [
        "#pip installs\n",
        "pip install ruamel.yaml\n",
        "\n",
        "# Import libraries\n",
        "import os\n",
        "import ipywidgets as widgets\n",
        "from ipywidgets import interact, interactive, interact_manual\n",
        "from IPython.display import display, clear_output, Video\n",
        "import yaml\n",
        "import ruamel.yaml"
      ]
    },
    {
      "cell_type": "markdown",
      "id": "6e67c3ce",
      "metadata": {
        "id": "6e67c3ce"
      },
      "source": [
        "## Data Exploration\n",
        "This section lets you select and view the videos from the data/input_files/training_videos folder, allowing you to verify if you have chosen the correct video.\n",
        "To view the videos, select an option from the dropdown video and wait for the video to be displayed."
      ]
    },
    {
      "cell_type": "code",
      "execution_count": null,
      "id": "194a1c06",
      "metadata": {
        "colab": {
          "referenced_widgets": [
            "43bef263609643c1835a8f4cf9ca1c4d"
          ]
        },
        "id": "194a1c06",
        "outputId": "c0105243-2c29-4712-ca1c-2e398ee0f90a"
      },
      "outputs": [
        {
          "data": {
            "application/vnd.jupyter.widget-view+json": {
              "model_id": "43bef263609643c1835a8f4cf9ca1c4d",
              "version_major": 2,
              "version_minor": 0
            },
            "text/plain": [
              "interactive(children=(Dropdown(description='file', options=('6R7QW.mp4', 'CCCUJ.mp4', 'HB9LP.mp4', 'JIR5V.mp4'…"
            ]
          },
          "metadata": {},
          "output_type": "display_data"
        }
      ],
      "source": [
        "# Define folder path of training videos\n",
        "folder_path = \"./data/input_files/training_videos/\"\n",
        "\n",
        "# Display video based on file chosen from the folder\n",
        "@interact\n",
        "def show_video(file=os.listdir(folder_path)):\n",
        "    if(\".mp4\" not in file):\n",
        "        print(\"Please choose a file with .mp4 format.\")\n",
        "        return\n",
        "    video_path = f\"{folder_path}{file}\"\n",
        "    video_display = Video(video_path, width=400, height=400, embed=True)\n",
        "    display(video_display)"
      ]
    },
    {
      "cell_type": "markdown",
      "id": "6cd395be",
      "metadata": {
        "id": "6cd395be"
      },
      "source": [
        "## Inference"
      ]
    },
    {
      "cell_type": "code",
      "execution_count": 2,
      "id": "0bd03a32",
      "metadata": {
        "colab": {
          "base_uri": "https://localhost:8080/",
          "height": 154,
          "referenced_widgets": [
            "75449e426fdd48e9b51ed284c7a65117",
            "cf0b4b30beb340fca108318a5233eeb6",
            "f91e3dbb4339470aab7f09b5891dcf00",
            "2bc73264c1e24149807636789412cfac",
            "2975c9ecec244361a937475a1b9ea409",
            "bc0ca92985d043b8ac3805524c058a29",
            "977aac6adce243e693a2df8d3a2f4ef2",
            "e12fe6971c2940f0b0e791b47ba1e6ee",
            "df5a151304514941979e9fb54bf9b9f2",
            "04a8b2a90b0c4471975882da4c1c72b7",
            "cad39402ae39487a957cf309e4168320"
          ]
        },
        "id": "0bd03a32",
        "outputId": "4260db05-6c36-47b6-fc71-6d5bca410aea"
      },
      "outputs": [
        {
          "data": {
            "application/vnd.jupyter.widget-view+json": {
              "model_id": "75449e426fdd48e9b51ed284c7a65117",
              "version_major": 2,
              "version_minor": 0
            },
            "text/plain": [
              "Text(value='./checkpoints/stable-diffusion-v1-4', description='Pretrained Model Path:')"
            ]
          },
          "metadata": {},
          "output_type": "display_data"
        },
        {
          "data": {
            "application/vnd.jupyter.widget-view+json": {
              "model_id": "2bc73264c1e24149807636789412cfac",
              "version_major": 2,
              "version_minor": 0
            },
            "text/plain": [
              "Textarea(value='Iron man on the beach\\nStormtrooper on the sea\\nAstronaut on the beach', description='Prompts:…"
            ]
          },
          "metadata": {},
          "output_type": "display_data"
        },
        {
          "data": {
            "application/vnd.jupyter.widget-view+json": {
              "model_id": "977aac6adce243e693a2df8d3a2f4ef2",
              "version_major": 2,
              "version_minor": 0
            },
            "text/plain": [
              "Button(description='Update Config', style=ButtonStyle())"
            ]
          },
          "metadata": {},
          "output_type": "display_data"
        },
        {
          "data": {
            "application/vnd.jupyter.widget-view+json": {
              "model_id": "04a8b2a90b0c4471975882da4c1c72b7",
              "version_major": 2,
              "version_minor": 0
            },
            "text/plain": [
              "Output()"
            ]
          },
          "metadata": {},
          "output_type": "display_data"
        }
      ],
      "source": [
        "# Create a text input widget for pretrained_model_path\n",
        "pretrained_model_path_input = widgets.Text(\n",
        "    value=\"./checkpoints/stable-diffusion-v1-4\",\n",
        "    description=\"Pretrained Model Path:\",\n",
        ")\n",
        "\n",
        "# Declare the validation_data dictionary\n",
        "validation_data = {\n",
        "    'prompts': [\n",
        "        \"Iron man on the beach\",\n",
        "        \"Stormtrooper on the sea\",\n",
        "        \"Astronaut on the beach\"\n",
        "    ],\n",
        "    'video_length': 32,\n",
        "    'width': 512,\n",
        "    'height': 512,\n",
        "    'num_inference_steps': 50,\n",
        "    'guidance_scale': 12.5,\n",
        "    'use_inv_latent': False,\n",
        "    'num_inv_steps': 50,\n",
        "    'dataset_set': 'val'\n",
        "}\n",
        "\n",
        "# Create a text input widget for prompts\n",
        "prompts_input = widgets.Textarea(\n",
        "    value = \"\\n\".join(str(i) for i in (validation_data['prompts'])),\n",
        "    description = \"Prompts:\",\n",
        "    rows = 4\n",
        ")\n",
        "\n",
        "update_config_button = widgets.Button(description=\"Update Config\")\n",
        "yaml_file_path = \"./ict3104-team12-2023/configs/pose_sample.yaml\"\n",
        "output_widget = widgets.Output()\n",
        "\n",
        "def update_config(button_click):\n",
        "    updated_path = pretrained_model_path_input.value\n",
        "    updated_prompts = prompts_input.value.split(\"\\n\")\n",
        "\n",
        "    # Read the existing YAML content from the file\n",
        "    with open(yaml_file_path, 'r') as yaml_file:\n",
        "        config_data = yaml.safe_load(yaml_file)\n",
        "\n",
        "    config_data['pretrained_model_path'] = updated_path\n",
        "    config_data['validation_data']['prompts'] = updated_prompts\n",
        "\n",
        "    # Write the updated content back to the file\n",
        "    with open(yaml_file_path, 'w') as yaml_file:\n",
        "        yaml.dump(config_data, yaml_file, sort_keys=False)\n",
        "\n",
        "    # Display the updated YAML content in the output widget\n",
        "    with output_widget:\n",
        "        clear_output()\n",
        "        print(yaml.dump(config_data, sort_keys=False))\n",
        "\n",
        "update_config_button.on_click(update_config)\n",
        "\n",
        "# Display input fields\n",
        "display(pretrained_model_path_input)\n",
        "display(prompts_input)\n",
        "# Preview\n",
        "display(update_config_button, output_widget)"
      ]
    },
    {
      "cell_type": "code",
      "execution_count": null,
      "id": "1aPNW1oWBFmZ",
      "metadata": {
        "id": "1aPNW1oWBFmZ"
      },
      "outputs": [],
      "source": [
        "video_path = \"./ict3104-team12-2023/data/input_files/pose_examples/\"\n",
        "\n",
        "video_files = [f for f in os.listdir(video_path) if f.endswith(\".mov\")]\n",
        "\n",
        "video_dropdown = widgets.Dropdown(\n",
        "    options=video_files,\n",
        "    description='Select a video:',\n",
        ")\n",
        "\n",
        "# Variable to store the selected video\n",
        "selected_video = None\n",
        "\n",
        "# Display the selected video and store the selection in the variable\n",
        "def display_video(selected):\n",
        "    global selected_video\n",
        "    selected_video = selected\n",
        "    video_file_path = os.path.join(video_path, selected)\n",
        "    display(Video(video_file_path, width=400, height=300))\n",
        "\n",
        "    # Update the print statement\n",
        "    print(\"Selected video:\", selected_video)\n",
        "\n",
        "interactive(display_video, selected=video_dropdown)"
      ]
    },
    {
      "cell_type": "markdown",
      "id": "5148b9ef",
      "metadata": {
        "id": "5148b9ef"
      },
      "source": [
        "## Training"
      ]
    },
    {
      "cell_type": "code",
      "execution_count": null,
      "id": "c8dc9f91",
      "metadata": {
        "id": "c8dc9f91"
      },
      "outputs": [],
      "source": [
        "# Create a data dictionary for the content in the pose_train.yaml\n",
        "data = {\n",
        "    \"pretrained_model_path\": \"./checkpoints/stable-diffusion-v1-4\",\n",
        "    \"output_dir\": \"output\",\n",
        "    \"train_data\": {\n",
        "        \"video_path\": \"no path\",\n",
        "        \"prompt\": \"None\",\n",
        "        \"n_sample_frames\": 12,\n",
        "        \"width\": 512,\n",
        "        \"height\": 512,\n",
        "        \"sample_start_idx\": 0,\n",
        "        \"sample_frame_rate\": 4,\n",
        "        \"dataset_set\": \"train\",\n",
        "    },\n",
        "    \"validation_data\": {\n",
        "        \"prompts\": [\n",
        "            \"A Iron man on the beach\",\n",
        "            \"A Spider man on the snow\",\n",
        "            \"A Superman on the street\",\n",
        "            \"A boy on the forest\",\n",
        "        ],\n",
        "        \"video_length\": 24,\n",
        "        \"width\": 512,\n",
        "        \"height\": 512,\n",
        "        \"num_inference_steps\": 50,\n",
        "        \"guidance_scale\": 12.5,\n",
        "        \"use_inv_latent\": False,\n",
        "        \"num_inv_steps\": 50,\n",
        "        \"dataset_set\": \"val\",\n",
        "    },\n",
        "    \"learning_rate\": 3e-5,\n",
        "    \"train_batch_size\": None,\n",
        "    \"num_train_epoch\": None,\n",
        "    \"max_train_steps\": 5000,\n",
        "    \"checkpointing_steps\": 1000,\n",
        "    \"validation_steps\": 100,\n",
        "    \"trainable_modules\": [\n",
        "        \"attn1.to_q\",\n",
        "        \"attn2.to_q\",\n",
        "        \"attn_temp\",\n",
        "        \"conv_temporal\",\n",
        "    ],\n",
        "    \"skeleton_path\": \"./pose_example/vis_kun_pose2.mov\",\n",
        "    \"seed\": 33,\n",
        "    \"mixed_precision\": \"no\",\n",
        "    \"use_8bit_adam\": False,\n",
        "    \"gradient_checkpointing\": False,\n",
        "    \"enable_xformers_memory_efficient_attention\": True,\n",
        "}\n",
        "\n",
        "# Define the generate pose_train.yaml function\n",
        "def generate_yaml():\n",
        "    \n",
        "    #Convert the value in the text widget to integer (since by default it is treated as string)\n",
        "    train_batch_size = int(batch_size_widget.value)\n",
        "    num_train_epoch = int(epoch_widget.value)\n",
        "\n",
        "    # Update the placeholders the respective values\n",
        "    data[\"train_batch_size\"] = train_batch_size\n",
        "    data[\"num_train_epoch\"] = num_train_epoch\n",
        "\n",
        "    # Write the data to the pose_train.yaml file\n",
        "    with open('./configs/pose_train.yaml', 'w') as file:\n",
        "        yaml = ruamel.yaml.YAML()\n",
        "        yaml.dump(data, file)\n",
        "\n",
        "# Creation of the model name and batch size text and create model button widgets\n",
        "name_widget = widgets.Text(description='Name:')\n",
        "batch_size_widget = widgets.Text(description='Batch Size:')\n",
        "epoch_widget = widgets.Text(description='Epochs:')\n",
        "create_button = widgets.Button(description='Create Model')\n",
        "create_button.on_click(generate_yaml)\n",
        "\n",
        "# Display widgets\n",
        "display(name_widget)\n",
        "display(batch_size_widget)\n",
        "display(epoch_widget)\n",
        "display(create_button)"
      ]
    },
    {
      "cell_type": "markdown",
      "id": "23f39f8c",
      "metadata": {
        "id": "23f39f8c"
      },
      "source": [
        "## Testing"
      ]
    },
    {
      "cell_type": "markdown",
      "id": "f6688463",
      "metadata": {
        "id": "f6688463"
      },
      "source": []
    }
  ],
  "metadata": {
    "colab": {
      "provenance": []
    },
    "kernelspec": {
      "display_name": "Python 3 (ipykernel)",
      "language": "python",
      "name": "python3"
    },
    "language_info": {
      "codemirror_mode": {
        "name": "ipython",
        "version": 3
      },
      "file_extension": ".py",
      "mimetype": "text/x-python",
      "name": "python",
      "nbconvert_exporter": "python",
      "pygments_lexer": "ipython3",
      "version": "3.11.4"
    },
    "widgets": {
      "application/vnd.jupyter.widget-state+json": {
        "04a8b2a90b0c4471975882da4c1c72b7": {
          "model_module": "@jupyter-widgets/output",
          "model_module_version": "1.0.0",
          "model_name": "OutputModel",
          "state": {
            "_dom_classes": [],
            "_model_module": "@jupyter-widgets/output",
            "_model_module_version": "1.0.0",
            "_model_name": "OutputModel",
            "_view_count": null,
            "_view_module": "@jupyter-widgets/output",
            "_view_module_version": "1.0.0",
            "_view_name": "OutputView",
            "layout": "IPY_MODEL_cad39402ae39487a957cf309e4168320",
            "msg_id": "",
            "outputs": []
          }
        },
        "2975c9ecec244361a937475a1b9ea409": {
          "model_module": "@jupyter-widgets/base",
          "model_module_version": "1.2.0",
          "model_name": "LayoutModel",
          "state": {
            "_model_module": "@jupyter-widgets/base",
            "_model_module_version": "1.2.0",
            "_model_name": "LayoutModel",
            "_view_count": null,
            "_view_module": "@jupyter-widgets/base",
            "_view_module_version": "1.2.0",
            "_view_name": "LayoutView",
            "align_content": null,
            "align_items": null,
            "align_self": null,
            "border": null,
            "bottom": null,
            "display": null,
            "flex": null,
            "flex_flow": null,
            "grid_area": null,
            "grid_auto_columns": null,
            "grid_auto_flow": null,
            "grid_auto_rows": null,
            "grid_column": null,
            "grid_gap": null,
            "grid_row": null,
            "grid_template_areas": null,
            "grid_template_columns": null,
            "grid_template_rows": null,
            "height": null,
            "justify_content": null,
            "justify_items": null,
            "left": null,
            "margin": null,
            "max_height": null,
            "max_width": null,
            "min_height": null,
            "min_width": null,
            "object_fit": null,
            "object_position": null,
            "order": null,
            "overflow": null,
            "overflow_x": null,
            "overflow_y": null,
            "padding": null,
            "right": null,
            "top": null,
            "visibility": null,
            "width": null
          }
        },
        "2bc73264c1e24149807636789412cfac": {
          "model_module": "@jupyter-widgets/controls",
          "model_module_version": "1.5.0",
          "model_name": "TextareaModel",
          "state": {
            "_dom_classes": [],
            "_model_module": "@jupyter-widgets/controls",
            "_model_module_version": "1.5.0",
            "_model_name": "TextareaModel",
            "_view_count": null,
            "_view_module": "@jupyter-widgets/controls",
            "_view_module_version": "1.5.0",
            "_view_name": "TextareaView",
            "continuous_update": true,
            "description": "Prompts:",
            "description_tooltip": null,
            "disabled": false,
            "layout": "IPY_MODEL_2975c9ecec244361a937475a1b9ea409",
            "placeholder": "​",
            "rows": 4,
            "style": "IPY_MODEL_bc0ca92985d043b8ac3805524c058a29",
            "value": "Iron man on the beach\nStormtrooper on the sea\nAstronaut on the beach"
          }
        },
        "75449e426fdd48e9b51ed284c7a65117": {
          "model_module": "@jupyter-widgets/controls",
          "model_module_version": "1.5.0",
          "model_name": "TextModel",
          "state": {
            "_dom_classes": [],
            "_model_module": "@jupyter-widgets/controls",
            "_model_module_version": "1.5.0",
            "_model_name": "TextModel",
            "_view_count": null,
            "_view_module": "@jupyter-widgets/controls",
            "_view_module_version": "1.5.0",
            "_view_name": "TextView",
            "continuous_update": true,
            "description": "Pretrained Model Path:",
            "description_tooltip": null,
            "disabled": false,
            "layout": "IPY_MODEL_cf0b4b30beb340fca108318a5233eeb6",
            "placeholder": "​",
            "style": "IPY_MODEL_f91e3dbb4339470aab7f09b5891dcf00",
            "value": "./checkpoints/stable-diffusion-v1-4"
          }
        },
        "977aac6adce243e693a2df8d3a2f4ef2": {
          "model_module": "@jupyter-widgets/controls",
          "model_module_version": "1.5.0",
          "model_name": "ButtonModel",
          "state": {
            "_dom_classes": [],
            "_model_module": "@jupyter-widgets/controls",
            "_model_module_version": "1.5.0",
            "_model_name": "ButtonModel",
            "_view_count": null,
            "_view_module": "@jupyter-widgets/controls",
            "_view_module_version": "1.5.0",
            "_view_name": "ButtonView",
            "button_style": "",
            "description": "Update Config",
            "disabled": false,
            "icon": "",
            "layout": "IPY_MODEL_e12fe6971c2940f0b0e791b47ba1e6ee",
            "style": "IPY_MODEL_df5a151304514941979e9fb54bf9b9f2",
            "tooltip": ""
          }
        },
        "bc0ca92985d043b8ac3805524c058a29": {
          "model_module": "@jupyter-widgets/controls",
          "model_module_version": "1.5.0",
          "model_name": "DescriptionStyleModel",
          "state": {
            "_model_module": "@jupyter-widgets/controls",
            "_model_module_version": "1.5.0",
            "_model_name": "DescriptionStyleModel",
            "_view_count": null,
            "_view_module": "@jupyter-widgets/base",
            "_view_module_version": "1.2.0",
            "_view_name": "StyleView",
            "description_width": ""
          }
        },
        "cad39402ae39487a957cf309e4168320": {
          "model_module": "@jupyter-widgets/base",
          "model_module_version": "1.2.0",
          "model_name": "LayoutModel",
          "state": {
            "_model_module": "@jupyter-widgets/base",
            "_model_module_version": "1.2.0",
            "_model_name": "LayoutModel",
            "_view_count": null,
            "_view_module": "@jupyter-widgets/base",
            "_view_module_version": "1.2.0",
            "_view_name": "LayoutView",
            "align_content": null,
            "align_items": null,
            "align_self": null,
            "border": null,
            "bottom": null,
            "display": null,
            "flex": null,
            "flex_flow": null,
            "grid_area": null,
            "grid_auto_columns": null,
            "grid_auto_flow": null,
            "grid_auto_rows": null,
            "grid_column": null,
            "grid_gap": null,
            "grid_row": null,
            "grid_template_areas": null,
            "grid_template_columns": null,
            "grid_template_rows": null,
            "height": null,
            "justify_content": null,
            "justify_items": null,
            "left": null,
            "margin": null,
            "max_height": null,
            "max_width": null,
            "min_height": null,
            "min_width": null,
            "object_fit": null,
            "object_position": null,
            "order": null,
            "overflow": null,
            "overflow_x": null,
            "overflow_y": null,
            "padding": null,
            "right": null,
            "top": null,
            "visibility": null,
            "width": null
          }
        },
        "cf0b4b30beb340fca108318a5233eeb6": {
          "model_module": "@jupyter-widgets/base",
          "model_module_version": "1.2.0",
          "model_name": "LayoutModel",
          "state": {
            "_model_module": "@jupyter-widgets/base",
            "_model_module_version": "1.2.0",
            "_model_name": "LayoutModel",
            "_view_count": null,
            "_view_module": "@jupyter-widgets/base",
            "_view_module_version": "1.2.0",
            "_view_name": "LayoutView",
            "align_content": null,
            "align_items": null,
            "align_self": null,
            "border": null,
            "bottom": null,
            "display": null,
            "flex": null,
            "flex_flow": null,
            "grid_area": null,
            "grid_auto_columns": null,
            "grid_auto_flow": null,
            "grid_auto_rows": null,
            "grid_column": null,
            "grid_gap": null,
            "grid_row": null,
            "grid_template_areas": null,
            "grid_template_columns": null,
            "grid_template_rows": null,
            "height": null,
            "justify_content": null,
            "justify_items": null,
            "left": null,
            "margin": null,
            "max_height": null,
            "max_width": null,
            "min_height": null,
            "min_width": null,
            "object_fit": null,
            "object_position": null,
            "order": null,
            "overflow": null,
            "overflow_x": null,
            "overflow_y": null,
            "padding": null,
            "right": null,
            "top": null,
            "visibility": null,
            "width": null
          }
        },
        "df5a151304514941979e9fb54bf9b9f2": {
          "model_module": "@jupyter-widgets/controls",
          "model_module_version": "1.5.0",
          "model_name": "ButtonStyleModel",
          "state": {
            "_model_module": "@jupyter-widgets/controls",
            "_model_module_version": "1.5.0",
            "_model_name": "ButtonStyleModel",
            "_view_count": null,
            "_view_module": "@jupyter-widgets/base",
            "_view_module_version": "1.2.0",
            "_view_name": "StyleView",
            "button_color": null,
            "font_weight": ""
          }
        },
        "e12fe6971c2940f0b0e791b47ba1e6ee": {
          "model_module": "@jupyter-widgets/base",
          "model_module_version": "1.2.0",
          "model_name": "LayoutModel",
          "state": {
            "_model_module": "@jupyter-widgets/base",
            "_model_module_version": "1.2.0",
            "_model_name": "LayoutModel",
            "_view_count": null,
            "_view_module": "@jupyter-widgets/base",
            "_view_module_version": "1.2.0",
            "_view_name": "LayoutView",
            "align_content": null,
            "align_items": null,
            "align_self": null,
            "border": null,
            "bottom": null,
            "display": null,
            "flex": null,
            "flex_flow": null,
            "grid_area": null,
            "grid_auto_columns": null,
            "grid_auto_flow": null,
            "grid_auto_rows": null,
            "grid_column": null,
            "grid_gap": null,
            "grid_row": null,
            "grid_template_areas": null,
            "grid_template_columns": null,
            "grid_template_rows": null,
            "height": null,
            "justify_content": null,
            "justify_items": null,
            "left": null,
            "margin": null,
            "max_height": null,
            "max_width": null,
            "min_height": null,
            "min_width": null,
            "object_fit": null,
            "object_position": null,
            "order": null,
            "overflow": null,
            "overflow_x": null,
            "overflow_y": null,
            "padding": null,
            "right": null,
            "top": null,
            "visibility": null,
            "width": null
          }
        },
        "f91e3dbb4339470aab7f09b5891dcf00": {
          "model_module": "@jupyter-widgets/controls",
          "model_module_version": "1.5.0",
          "model_name": "DescriptionStyleModel",
          "state": {
            "_model_module": "@jupyter-widgets/controls",
            "_model_module_version": "1.5.0",
            "_model_name": "DescriptionStyleModel",
            "_view_count": null,
            "_view_module": "@jupyter-widgets/base",
            "_view_module_version": "1.2.0",
            "_view_name": "StyleView",
            "description_width": ""
          }
        }
      }
    }
  },
  "nbformat": 4,
  "nbformat_minor": 5
}
